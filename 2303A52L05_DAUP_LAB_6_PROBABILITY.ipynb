{
  "nbformat": 4,
  "nbformat_minor": 0,
  "metadata": {
    "colab": {
      "provenance": [],
      "include_colab_link": true
    },
    "kernelspec": {
      "name": "python3",
      "display_name": "Python 3"
    },
    "language_info": {
      "name": "python"
    }
  },
  "cells": [
    {
      "cell_type": "markdown",
      "metadata": {
        "id": "view-in-github",
        "colab_type": "text"
      },
      "source": [
        "<a href=\"https://colab.research.google.com/github/sathvikpatel0812/DAUP-2025/blob/main/2303A52L05_DAUP_LAB_6_PROBABILITY.ipynb\" target=\"_parent\"><img src=\"https://colab.research.google.com/assets/colab-badge.svg\" alt=\"Open In Colab\"/></a>"
      ]
    },
    {
      "cell_type": "code",
      "execution_count": null,
      "metadata": {
        "colab": {
          "base_uri": "https://localhost:8080/"
        },
        "id": "6ppXx0NtVJOH",
        "outputId": "c62ba860-f6d1-49f4-be59-41fe33001edd"
      },
      "outputs": [
        {
          "output_type": "stream",
          "name": "stdout",
          "text": [
            "Dataset extracted to: /content/Supermarket_Sales\n"
          ]
        }
      ],
      "source": [
        "import zipfile\n",
        "import os\n",
        "\n",
        "zip_file_path = \"//content/Supermarket_Sales.zip\"  # Update with your ZIP file name\n",
        "extract_to_folder = \"/content/Supermarket_Sales\"\n",
        "\n",
        "with zipfile.ZipFile(zip_file_path, 'r') as zip_ref:\n",
        "    zip_ref.extractall(extract_to_folder)\n",
        "\n",
        "print(f\"Dataset extracted to: {os.path.abspath(extract_to_folder)}\")\n"
      ]
    },
    {
      "cell_type": "code",
      "source": [
        "import pandas as pd\n"
      ],
      "metadata": {
        "id": "-CT76a0XYyQj"
      },
      "execution_count": null,
      "outputs": []
    },
    {
      "cell_type": "code",
      "source": [
        "df = pd.read_csv(\"/content/Supermarket_Sales/supermarket_sales -.csv\")\n"
      ],
      "metadata": {
        "id": "7QwvfXPPYz-7"
      },
      "execution_count": null,
      "outputs": []
    },
    {
      "cell_type": "code",
      "source": [
        "print(df.head())"
      ],
      "metadata": {
        "colab": {
          "base_uri": "https://localhost:8080/"
        },
        "id": "F2_gKjB3Y21q",
        "outputId": "621788b9-10d9-4d9e-f20c-e9b2b606ee2d"
      },
      "execution_count": null,
      "outputs": [
        {
          "output_type": "stream",
          "name": "stdout",
          "text": [
            "    Invoice ID Branch       City Customer type  Gender  \\\n",
            "0  750-67-8428      A     Yangon        Member  Female   \n",
            "1  226-31-3081      C  Naypyitaw        Normal  Female   \n",
            "2  631-41-3108      A     Yangon        Normal    Male   \n",
            "3  123-19-1176      A     Yangon        Member    Male   \n",
            "4  373-73-7910      A     Yangon        Normal    Male   \n",
            "\n",
            "             Product line  Unit price  Quantity   Tax 5%     Total       Date  \\\n",
            "0       Health and beauty       74.69         7  26.1415  548.9715   1/5/2019   \n",
            "1  Electronic accessories       15.28         5   3.8200   80.2200   3/8/2019   \n",
            "2      Home and lifestyle       46.33         7  16.2155  340.5255   3/3/2019   \n",
            "3       Health and beauty       58.22         8  23.2880  489.0480  1/27/2019   \n",
            "4       Sports and travel       86.31         7  30.2085  634.3785   2/8/2019   \n",
            "\n",
            "    Time      Payment    cogs  gross margin percentage  gross income  Rating  \n",
            "0  13:08      Ewallet  522.83                 4.761905       26.1415     9.1  \n",
            "1  10:29         Cash   76.40                 4.761905        3.8200     9.6  \n",
            "2  13:23  Credit card  324.31                 4.761905       16.2155     7.4  \n",
            "3  20:33      Ewallet  465.76                 4.761905       23.2880     8.4  \n",
            "4  10:37      Ewallet  604.17                 4.761905       30.2085     5.3  \n"
          ]
        }
      ]
    },
    {
      "cell_type": "code",
      "source": [
        "total_transactions = len(df)\n"
      ],
      "metadata": {
        "id": "aR8mY4MxY5oC"
      },
      "execution_count": null,
      "outputs": []
    },
    {
      "cell_type": "code",
      "source": [
        "\n",
        "# Event A: A transaction is made by a Member customer.\n",
        "A = df[df[\"Customer type\"] == \"Member\"]\n",
        "\n",
        "# Event B: A transaction was made using Credit Card payment.\n",
        "B = df[df[\"Payment\"] == \"Credit card\"]"
      ],
      "metadata": {
        "id": "QLJ92o48Y9JS"
      },
      "execution_count": null,
      "outputs": []
    },
    {
      "cell_type": "code",
      "source": [
        "\n",
        "P_A = len(A) / total_transactions\n",
        "P_B = len(B) / total_transactions\n",
        "P_A_intersection_B = len(df[(df[\"Customer type\"] == \"Member\") & (df[\"Payment\"] == \"Credit card\")]) / total_transactions\n",
        "P_A_union_B = P_A + P_B - P_A_intersection_B\n",
        "P_A_given_B = P_A_intersection_B / P_B\n"
      ],
      "metadata": {
        "id": "d-Hf5DljZAaa"
      },
      "execution_count": null,
      "outputs": []
    },
    {
      "cell_type": "code",
      "source": [
        "print(f\"P(A): {P_A:.4f}\")\n",
        "print(f\"P(B): {P_B:.4f}\")\n",
        "print(f\"P(A ∪ B): {P_A_union_B:.4f}\")\n",
        "print(f\"P(A ∩ B): {P_A_intersection_B:.4f}\")\n",
        "print(f\"P(A | B): {P_A_given_B:.4f}\")\n"
      ],
      "metadata": {
        "colab": {
          "base_uri": "https://localhost:8080/"
        },
        "id": "RN0hSb_4ZDFE",
        "outputId": "4296226f-504a-447f-fafb-ab7fef958aea"
      },
      "execution_count": null,
      "outputs": [
        {
          "output_type": "stream",
          "name": "stdout",
          "text": [
            "P(A): 0.5010\n",
            "P(B): 0.3110\n",
            "P(A ∪ B): 0.6400\n",
            "P(A ∩ B): 0.1720\n",
            "P(A | B): 0.5531\n"
          ]
        }
      ]
    },
    {
      "cell_type": "code",
      "source": [
        "# Probability of a randomly chosen transaction belonging to the Health & Beauty product line\n",
        "P_health_beauty = len(df[df[\"Product line\"] == \"Health and beauty\"]) / total_transactions\n",
        "print(f\"P(Health & Beauty): {P_health_beauty:.4f}\")\n",
        "\n",
        "# Probability that given a customer used Ewallet, they purchased more than 5 items\n",
        "Ewallet_transactions = df[df[\"Payment\"] == \"Ewallet\"]\n",
        "P_more_than_5_given_Ewallet = len(Ewallet_transactions[Ewallet_transactions[\"Quantity\"] > 5]) / len(Ewallet_transactions)\n",
        "print(f\"P(Quantity > 5 | Ewallet): {P_more_than_5_given_Ewallet:.4f}\")\n",
        "\n",
        "# Probability that a randomly selected transaction from Yangon used Cash as payment method\n",
        "Yangon_transactions = df[df[\"City\"] == \"Yangon\"]\n",
        "P_cash_given_Yangon = len(Yangon_transactions[Yangon_transactions[\"Payment\"] == \"Cash\"]) / len(Yangon_transactions)\n",
        "print(f\"P(Cash | Yangon): {P_cash_given_Yangon:.4f}\")\n",
        "\n",
        "# Probability of selecting a customer who is a Member and has given a rating above 8\n",
        "P_member_high_rating = len(df[(df[\"Customer type\"] == \"Member\") & (df[\"Rating\"] > 8)]) / total_transactions\n",
        "print(f\"P(Member and Rating > 8): {P_member_high_rating:.4f}\")\n"
      ],
      "metadata": {
        "colab": {
          "base_uri": "https://localhost:8080/"
        },
        "id": "vBSp1GRxVXps",
        "outputId": "c105f5a0-79a7-4358-e141-cbe32319ce5d"
      },
      "execution_count": null,
      "outputs": [
        {
          "output_type": "stream",
          "name": "stdout",
          "text": [
            "P(Health & Beauty): 0.1520\n",
            "P(Quantity > 5 | Ewallet): 0.4870\n",
            "P(Cash | Yangon): 0.3235\n",
            "P(Member and Rating > 8): 0.1570\n"
          ]
        }
      ]
    },
    {
      "cell_type": "code",
      "source": [
        "import math\n",
        "import pandas as pd\n",
        "\n",
        "# Load the dataset\n",
        "df = pd.read_csv(\"/content/Supermarket_Sales/supermarket_sales -.csv\")\n",
        "\n",
        "# Factorial function\n",
        "def factorial(n):\n",
        "    return math.factorial(n)\n"
      ],
      "metadata": {
        "id": "S496rjViVxJL"
      },
      "execution_count": null,
      "outputs": []
    },
    {
      "cell_type": "code",
      "source": [
        "# Permutations function: P(n, r) = n! / (n-r)!\n",
        "def permutation(n, r):\n",
        "    return math.factorial(n) // math.factorial(n - r)\n"
      ],
      "metadata": {
        "id": "Z-BiTmLZZRB9"
      },
      "execution_count": null,
      "outputs": []
    },
    {
      "cell_type": "code",
      "source": [
        "# Combinations function: C(n, r) = n! / (r!(n-r)!)\n",
        "def combination(n, r):\n",
        "    return math.factorial(n) // (math.factorial(r) * math.factorial(n - r))\n"
      ],
      "metadata": {
        "id": "tpNUhja_ZSVE"
      },
      "execution_count": null,
      "outputs": []
    },
    {
      "cell_type": "code",
      "source": [
        "# 1 Permutation: Ways to arrange 5 transactions from 20 transactions in a day\n",
        "P_5_from_20 = permutation(20, 5)\n",
        "print(f\"Permutations (P(20,5)): {P_5_from_20}\")\n"
      ],
      "metadata": {
        "colab": {
          "base_uri": "https://localhost:8080/"
        },
        "id": "2izVGMu8ZN1S",
        "outputId": "34b33d3e-b5f9-4f3d-deab-56ca764d7d91"
      },
      "execution_count": null,
      "outputs": [
        {
          "output_type": "stream",
          "name": "stdout",
          "text": [
            "Permutations (P(20,5)): 1860480\n"
          ]
        }
      ]
    },
    {
      "cell_type": "code",
      "source": [
        "\n",
        "# 2 Combination: Ways to select 3 different product lines from 6 available categories\n",
        "unique_product_lines = df[\"Product line\"].nunique()  # Get total product line categories\n",
        "C_3_from_6 = combination(unique_product_lines, 3)\n",
        "print(f\"Combinations (C(6,3)): {C_3_from_6}\")\n"
      ],
      "metadata": {
        "colab": {
          "base_uri": "https://localhost:8080/"
        },
        "id": "78_3-VMRZZA8",
        "outputId": "e12e21ed-f221-49c9-a260-f43583d85358"
      },
      "execution_count": null,
      "outputs": [
        {
          "output_type": "stream",
          "name": "stdout",
          "text": [
            "Combinations (C(6,3)): 20\n"
          ]
        }
      ]
    },
    {
      "cell_type": "code",
      "source": [
        "# 3 Factorial: Compute factorial of total number of different branches in dataset\n",
        "unique_branches = df[\"Branch\"].nunique()\n",
        "factorial_branches = factorial(unique_branches)\n",
        "print(f\"Factorial of branches ({unique_branches}!): {factorial_branches}\")\n"
      ],
      "metadata": {
        "colab": {
          "base_uri": "https://localhost:8080/"
        },
        "id": "ItlRwNCcZbHI",
        "outputId": "1ae3a65f-7145-4430-d51a-bd1b6aafea1a"
      },
      "execution_count": null,
      "outputs": [
        {
          "output_type": "stream",
          "name": "stdout",
          "text": [
            "Factorial of branches (3!): 6\n"
          ]
        }
      ]
    },
    {
      "cell_type": "code",
      "source": [
        "# 4 Ways to select 4 different payment methods from the available 3 types (Impossible case)\n",
        "payment_methods = df[\"Payment\"].nunique()\n",
        "if payment_methods < 4:\n",
        "    print(\"Cannot select 4 payment methods from only 3 available types.\")\n",
        "else:\n",
        "    P_4_from_3 = permutation(payment_methods, 4)\n",
        "    print(f\"Permutations (P(3,4)): {P_4_from_3}\")"
      ],
      "metadata": {
        "colab": {
          "base_uri": "https://localhost:8080/"
        },
        "id": "BnGOD0XSZc5j",
        "outputId": "18918185-52f0-4e19-9b3c-48274df2584c"
      },
      "execution_count": null,
      "outputs": [
        {
          "output_type": "stream",
          "name": "stdout",
          "text": [
            "Cannot select 4 payment methods from only 3 available types.\n"
          ]
        }
      ]
    },
    {
      "cell_type": "code",
      "source": [
        "\n",
        "# 5 Ways to select 5 employees for a survey from 15 employees\n",
        "C_5_from_15 = combination(15, 5)\n",
        "print(f\"Combinations (C(15,5)): {C_5_from_15}\")"
      ],
      "metadata": {
        "colab": {
          "base_uri": "https://localhost:8080/"
        },
        "id": "9b4SUbF0Zeie",
        "outputId": "cc201f88-85a3-4d53-d708-e95e136b8e2c"
      },
      "execution_count": null,
      "outputs": [
        {
          "output_type": "stream",
          "name": "stdout",
          "text": [
            "Combinations (C(15,5)): 3003\n"
          ]
        }
      ]
    },
    {
      "cell_type": "code",
      "source": [
        "\n",
        "# 6 Ways to create unique invoice codes using 6 letters from 26 English alphabet letters\n",
        "P_6_from_26 = permutation(26, 6)\n",
        "print(f\"Permutations (P(26,6)): {P_6_from_26}\")\n"
      ],
      "metadata": {
        "colab": {
          "base_uri": "https://localhost:8080/"
        },
        "id": "JzsZtXoJZgYC",
        "outputId": "6fd5aa36-97f9-47b1-c3c0-a97fa7357496"
      },
      "execution_count": null,
      "outputs": [
        {
          "output_type": "stream",
          "name": "stdout",
          "text": [
            "Permutations (P(26,6)): 165765600\n"
          ]
        }
      ]
    },
    {
      "cell_type": "code",
      "source": [],
      "metadata": {
        "id": "-zjG8DnLWOp9"
      },
      "execution_count": null,
      "outputs": []
    }
  ]
}